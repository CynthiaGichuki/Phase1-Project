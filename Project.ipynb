{
 "cells": [
  {
   "cell_type": "markdown",
   "id": "816f8022-f72f-489e-9ada-55dced298b07",
   "metadata": {},
   "source": [
    "# Aviation Accident Risk Analysis Project\n",
    "\n",
    "## Project Goal\n",
    "My project aims to analyze aviation accident data to determine the lowest-risk aircraft for a business considering entering the aviation industry.\n",
    "\n",
    "## Data Source and Exploration\n",
    "This [dataset](https://www.kaggle.com/datasets/khsamaha/aviation-accident-database-synopses), sourced from the **National Transportation Safety Board (NTSB)**, contains aviation accident records from **1962 to 2023**\n",
    "\n",
    "The objective is to analyze key patterns and determine aircraft models with the lowest risk.\n",
    "\n",
    "The dataset includes details on:\n",
    "- Aircraft type\n",
    "- Accident causes\n",
    "- Locations\n",
    "- Other contributing factors\n",
    "\n",
    "The target analysis focuses on identifying patterns in aviation accidents, including:\n",
    "- The most common aircraft involved in accidents\n",
    "- The leading cause of aviation accidents\n",
    "- Trends overtime and geographical distribution\n",
    "- The correlation between accident severity and aircraft type\n",
    "\n",
    "I cleaned, analyzed and visualized the data using **Pandas**, **Tableau**, and **Interactive dashboards** to derive insights.\n",
    "\n",
    "## Key Findings\n",
    "The analysis revealed:\n",
    "- Certain aircraft models have significantly lower accident rates than others.\n",
    "- **Human error** is a leading cause of aviation accidents, followed by **mechanical failure**.\n",
    "- **Weather conditions** play a crucial role in accidents severity\n",
    "  \n",
    "These insights provide valuable recommendations for selecting **low-risk aircraft** and improving **aviation safety strategies**"
   ]
  },
  {
   "cell_type": "markdown",
   "id": "5d00a92e-8082-4fec-9bc3-fbc9ebce1b8b",
   "metadata": {},
   "source": [
    "**Import the necessary libraries**"
   ]
  },
  {
   "cell_type": "code",
   "execution_count": 1,
   "id": "74f9cfa9-161a-4cf7-96f4-b9e6b2cacb36",
   "metadata": {},
   "outputs": [],
   "source": [
    "import pandas as pd\n",
    "import numpy as np\n",
    "import matplotlib.pyplot as plt\n",
    "import seaborn as sns"
   ]
  },
  {
   "cell_type": "markdown",
   "id": "5224b585-99c0-4bc7-af24-52c55dbd0728",
   "metadata": {},
   "source": [
    "**Read the csv file**"
   ]
  },
  {
   "cell_type": "code",
   "execution_count": 2,
   "id": "0a95ecd3-1198-4fa6-827c-2108c9e52527",
   "metadata": {},
   "outputs": [
    {
     "name": "stderr",
     "output_type": "stream",
     "text": [
      "C:\\Users\\gichu\\AppData\\Local\\Temp\\ipykernel_6124\\1236833942.py:1: DtypeWarning: Columns (6,7,28) have mixed types. Specify dtype option on import or set low_memory=False.\n",
      "  df = pd.read_csv('AviationData.csv', encoding='latin1')\n"
     ]
    }
   ],
   "source": [
    "df = pd.read_csv('AviationData.csv', encoding='latin1')\n",
    "\n",
    "# Using 'latin-1' encoding to handle special characters and avoid UnicodeDecodeError.\n",
    "# that cause issues with the default 'utf-8' encoding."
   ]
  },
  {
   "cell_type": "markdown",
   "id": "226d00e0-f566-4bc0-b411-110e37ae8b07",
   "metadata": {},
   "source": [
    "### Understanding the Dataset Structure\n",
    "\n",
    "Here I am getting an overview of the dataset. I'll use:\n",
    "\n",
    "1. **`df.info()`** - Provides a summary of the dataset\n",
    "2. **`df.head()`** - Displays the first five rows of the dataset"
   ]
  },
  {
   "cell_type": "code",
   "execution_count": 3,
   "id": "be78fd5b-03c7-4f4b-8b8a-537461d6bbb0",
   "metadata": {},
   "outputs": [
    {
     "name": "stdout",
     "output_type": "stream",
     "text": [
      "<class 'pandas.core.frame.DataFrame'>\n",
      "RangeIndex: 88889 entries, 0 to 88888\n",
      "Data columns (total 31 columns):\n",
      " #   Column                  Non-Null Count  Dtype  \n",
      "---  ------                  --------------  -----  \n",
      " 0   Event.Id                88889 non-null  object \n",
      " 1   Investigation.Type      88889 non-null  object \n",
      " 2   Accident.Number         88889 non-null  object \n",
      " 3   Event.Date              88889 non-null  object \n",
      " 4   Location                88837 non-null  object \n",
      " 5   Country                 88663 non-null  object \n",
      " 6   Latitude                34382 non-null  object \n",
      " 7   Longitude               34373 non-null  object \n",
      " 8   Airport.Code            50132 non-null  object \n",
      " 9   Airport.Name            52704 non-null  object \n",
      " 10  Injury.Severity         87889 non-null  object \n",
      " 11  Aircraft.damage         85695 non-null  object \n",
      " 12  Aircraft.Category       32287 non-null  object \n",
      " 13  Registration.Number     87507 non-null  object \n",
      " 14  Make                    88826 non-null  object \n",
      " 15  Model                   88797 non-null  object \n",
      " 16  Amateur.Built           88787 non-null  object \n",
      " 17  Number.of.Engines       82805 non-null  float64\n",
      " 18  Engine.Type             81793 non-null  object \n",
      " 19  FAR.Description         32023 non-null  object \n",
      " 20  Schedule                12582 non-null  object \n",
      " 21  Purpose.of.flight       82697 non-null  object \n",
      " 22  Air.carrier             16648 non-null  object \n",
      " 23  Total.Fatal.Injuries    77488 non-null  float64\n",
      " 24  Total.Serious.Injuries  76379 non-null  float64\n",
      " 25  Total.Minor.Injuries    76956 non-null  float64\n",
      " 26  Total.Uninjured         82977 non-null  float64\n",
      " 27  Weather.Condition       84397 non-null  object \n",
      " 28  Broad.phase.of.flight   61724 non-null  object \n",
      " 29  Report.Status           82505 non-null  object \n",
      " 30  Publication.Date        75118 non-null  object \n",
      "dtypes: float64(5), object(26)\n",
      "memory usage: 21.0+ MB\n"
     ]
    },
    {
     "data": {
      "text/html": [
       "<div>\n",
       "<style scoped>\n",
       "    .dataframe tbody tr th:only-of-type {\n",
       "        vertical-align: middle;\n",
       "    }\n",
       "\n",
       "    .dataframe tbody tr th {\n",
       "        vertical-align: top;\n",
       "    }\n",
       "\n",
       "    .dataframe thead th {\n",
       "        text-align: right;\n",
       "    }\n",
       "</style>\n",
       "<table border=\"1\" class=\"dataframe\">\n",
       "  <thead>\n",
       "    <tr style=\"text-align: right;\">\n",
       "      <th></th>\n",
       "      <th>Event.Id</th>\n",
       "      <th>Investigation.Type</th>\n",
       "      <th>Accident.Number</th>\n",
       "      <th>Event.Date</th>\n",
       "      <th>Location</th>\n",
       "      <th>Country</th>\n",
       "      <th>Latitude</th>\n",
       "      <th>Longitude</th>\n",
       "      <th>Airport.Code</th>\n",
       "      <th>Airport.Name</th>\n",
       "      <th>...</th>\n",
       "      <th>Purpose.of.flight</th>\n",
       "      <th>Air.carrier</th>\n",
       "      <th>Total.Fatal.Injuries</th>\n",
       "      <th>Total.Serious.Injuries</th>\n",
       "      <th>Total.Minor.Injuries</th>\n",
       "      <th>Total.Uninjured</th>\n",
       "      <th>Weather.Condition</th>\n",
       "      <th>Broad.phase.of.flight</th>\n",
       "      <th>Report.Status</th>\n",
       "      <th>Publication.Date</th>\n",
       "    </tr>\n",
       "  </thead>\n",
       "  <tbody>\n",
       "    <tr>\n",
       "      <th>0</th>\n",
       "      <td>20001218X45444</td>\n",
       "      <td>Accident</td>\n",
       "      <td>SEA87LA080</td>\n",
       "      <td>1948-10-24</td>\n",
       "      <td>MOOSE CREEK, ID</td>\n",
       "      <td>United States</td>\n",
       "      <td>NaN</td>\n",
       "      <td>NaN</td>\n",
       "      <td>NaN</td>\n",
       "      <td>NaN</td>\n",
       "      <td>...</td>\n",
       "      <td>Personal</td>\n",
       "      <td>NaN</td>\n",
       "      <td>2.0</td>\n",
       "      <td>0.0</td>\n",
       "      <td>0.0</td>\n",
       "      <td>0.0</td>\n",
       "      <td>UNK</td>\n",
       "      <td>Cruise</td>\n",
       "      <td>Probable Cause</td>\n",
       "      <td>NaN</td>\n",
       "    </tr>\n",
       "    <tr>\n",
       "      <th>1</th>\n",
       "      <td>20001218X45447</td>\n",
       "      <td>Accident</td>\n",
       "      <td>LAX94LA336</td>\n",
       "      <td>1962-07-19</td>\n",
       "      <td>BRIDGEPORT, CA</td>\n",
       "      <td>United States</td>\n",
       "      <td>NaN</td>\n",
       "      <td>NaN</td>\n",
       "      <td>NaN</td>\n",
       "      <td>NaN</td>\n",
       "      <td>...</td>\n",
       "      <td>Personal</td>\n",
       "      <td>NaN</td>\n",
       "      <td>4.0</td>\n",
       "      <td>0.0</td>\n",
       "      <td>0.0</td>\n",
       "      <td>0.0</td>\n",
       "      <td>UNK</td>\n",
       "      <td>Unknown</td>\n",
       "      <td>Probable Cause</td>\n",
       "      <td>19-09-1996</td>\n",
       "    </tr>\n",
       "    <tr>\n",
       "      <th>2</th>\n",
       "      <td>20061025X01555</td>\n",
       "      <td>Accident</td>\n",
       "      <td>NYC07LA005</td>\n",
       "      <td>1974-08-30</td>\n",
       "      <td>Saltville, VA</td>\n",
       "      <td>United States</td>\n",
       "      <td>36.922223</td>\n",
       "      <td>-81.878056</td>\n",
       "      <td>NaN</td>\n",
       "      <td>NaN</td>\n",
       "      <td>...</td>\n",
       "      <td>Personal</td>\n",
       "      <td>NaN</td>\n",
       "      <td>3.0</td>\n",
       "      <td>NaN</td>\n",
       "      <td>NaN</td>\n",
       "      <td>NaN</td>\n",
       "      <td>IMC</td>\n",
       "      <td>Cruise</td>\n",
       "      <td>Probable Cause</td>\n",
       "      <td>26-02-2007</td>\n",
       "    </tr>\n",
       "    <tr>\n",
       "      <th>3</th>\n",
       "      <td>20001218X45448</td>\n",
       "      <td>Accident</td>\n",
       "      <td>LAX96LA321</td>\n",
       "      <td>1977-06-19</td>\n",
       "      <td>EUREKA, CA</td>\n",
       "      <td>United States</td>\n",
       "      <td>NaN</td>\n",
       "      <td>NaN</td>\n",
       "      <td>NaN</td>\n",
       "      <td>NaN</td>\n",
       "      <td>...</td>\n",
       "      <td>Personal</td>\n",
       "      <td>NaN</td>\n",
       "      <td>2.0</td>\n",
       "      <td>0.0</td>\n",
       "      <td>0.0</td>\n",
       "      <td>0.0</td>\n",
       "      <td>IMC</td>\n",
       "      <td>Cruise</td>\n",
       "      <td>Probable Cause</td>\n",
       "      <td>12-09-2000</td>\n",
       "    </tr>\n",
       "    <tr>\n",
       "      <th>4</th>\n",
       "      <td>20041105X01764</td>\n",
       "      <td>Accident</td>\n",
       "      <td>CHI79FA064</td>\n",
       "      <td>1979-08-02</td>\n",
       "      <td>Canton, OH</td>\n",
       "      <td>United States</td>\n",
       "      <td>NaN</td>\n",
       "      <td>NaN</td>\n",
       "      <td>NaN</td>\n",
       "      <td>NaN</td>\n",
       "      <td>...</td>\n",
       "      <td>Personal</td>\n",
       "      <td>NaN</td>\n",
       "      <td>1.0</td>\n",
       "      <td>2.0</td>\n",
       "      <td>NaN</td>\n",
       "      <td>0.0</td>\n",
       "      <td>VMC</td>\n",
       "      <td>Approach</td>\n",
       "      <td>Probable Cause</td>\n",
       "      <td>16-04-1980</td>\n",
       "    </tr>\n",
       "  </tbody>\n",
       "</table>\n",
       "<p>5 rows × 31 columns</p>\n",
       "</div>"
      ],
      "text/plain": [
       "         Event.Id Investigation.Type Accident.Number  Event.Date  \\\n",
       "0  20001218X45444           Accident      SEA87LA080  1948-10-24   \n",
       "1  20001218X45447           Accident      LAX94LA336  1962-07-19   \n",
       "2  20061025X01555           Accident      NYC07LA005  1974-08-30   \n",
       "3  20001218X45448           Accident      LAX96LA321  1977-06-19   \n",
       "4  20041105X01764           Accident      CHI79FA064  1979-08-02   \n",
       "\n",
       "          Location        Country   Latitude  Longitude Airport.Code  \\\n",
       "0  MOOSE CREEK, ID  United States        NaN        NaN          NaN   \n",
       "1   BRIDGEPORT, CA  United States        NaN        NaN          NaN   \n",
       "2    Saltville, VA  United States  36.922223 -81.878056          NaN   \n",
       "3       EUREKA, CA  United States        NaN        NaN          NaN   \n",
       "4       Canton, OH  United States        NaN        NaN          NaN   \n",
       "\n",
       "  Airport.Name  ... Purpose.of.flight Air.carrier Total.Fatal.Injuries  \\\n",
       "0          NaN  ...          Personal         NaN                  2.0   \n",
       "1          NaN  ...          Personal         NaN                  4.0   \n",
       "2          NaN  ...          Personal         NaN                  3.0   \n",
       "3          NaN  ...          Personal         NaN                  2.0   \n",
       "4          NaN  ...          Personal         NaN                  1.0   \n",
       "\n",
       "  Total.Serious.Injuries Total.Minor.Injuries Total.Uninjured  \\\n",
       "0                    0.0                  0.0             0.0   \n",
       "1                    0.0                  0.0             0.0   \n",
       "2                    NaN                  NaN             NaN   \n",
       "3                    0.0                  0.0             0.0   \n",
       "4                    2.0                  NaN             0.0   \n",
       "\n",
       "  Weather.Condition  Broad.phase.of.flight   Report.Status Publication.Date  \n",
       "0               UNK                 Cruise  Probable Cause              NaN  \n",
       "1               UNK                Unknown  Probable Cause       19-09-1996  \n",
       "2               IMC                 Cruise  Probable Cause       26-02-2007  \n",
       "3               IMC                 Cruise  Probable Cause       12-09-2000  \n",
       "4               VMC               Approach  Probable Cause       16-04-1980  \n",
       "\n",
       "[5 rows x 31 columns]"
      ]
     },
     "execution_count": 3,
     "metadata": {},
     "output_type": "execute_result"
    }
   ],
   "source": [
    "df.info()\n",
    "df.head()"
   ]
  },
  {
   "cell_type": "markdown",
   "id": "79aaeeaa-45a5-4bff-83d5-a203ae84e201",
   "metadata": {},
   "source": [
    "**Generating summary statisctics for the numerical columns in the dataset** using **`df.describe()`**"
   ]
  },
  {
   "cell_type": "code",
   "execution_count": 4,
   "id": "9a9fed8a-bfe9-4c6e-97c4-03697e44eb62",
   "metadata": {},
   "outputs": [
    {
     "data": {
      "text/html": [
       "<div>\n",
       "<style scoped>\n",
       "    .dataframe tbody tr th:only-of-type {\n",
       "        vertical-align: middle;\n",
       "    }\n",
       "\n",
       "    .dataframe tbody tr th {\n",
       "        vertical-align: top;\n",
       "    }\n",
       "\n",
       "    .dataframe thead th {\n",
       "        text-align: right;\n",
       "    }\n",
       "</style>\n",
       "<table border=\"1\" class=\"dataframe\">\n",
       "  <thead>\n",
       "    <tr style=\"text-align: right;\">\n",
       "      <th></th>\n",
       "      <th>Number.of.Engines</th>\n",
       "      <th>Total.Fatal.Injuries</th>\n",
       "      <th>Total.Serious.Injuries</th>\n",
       "      <th>Total.Minor.Injuries</th>\n",
       "      <th>Total.Uninjured</th>\n",
       "    </tr>\n",
       "  </thead>\n",
       "  <tbody>\n",
       "    <tr>\n",
       "      <th>count</th>\n",
       "      <td>82805.000000</td>\n",
       "      <td>77488.000000</td>\n",
       "      <td>76379.000000</td>\n",
       "      <td>76956.000000</td>\n",
       "      <td>82977.000000</td>\n",
       "    </tr>\n",
       "    <tr>\n",
       "      <th>mean</th>\n",
       "      <td>1.146585</td>\n",
       "      <td>0.647855</td>\n",
       "      <td>0.279881</td>\n",
       "      <td>0.357061</td>\n",
       "      <td>5.325440</td>\n",
       "    </tr>\n",
       "    <tr>\n",
       "      <th>std</th>\n",
       "      <td>0.446510</td>\n",
       "      <td>5.485960</td>\n",
       "      <td>1.544084</td>\n",
       "      <td>2.235625</td>\n",
       "      <td>27.913634</td>\n",
       "    </tr>\n",
       "    <tr>\n",
       "      <th>min</th>\n",
       "      <td>0.000000</td>\n",
       "      <td>0.000000</td>\n",
       "      <td>0.000000</td>\n",
       "      <td>0.000000</td>\n",
       "      <td>0.000000</td>\n",
       "    </tr>\n",
       "    <tr>\n",
       "      <th>25%</th>\n",
       "      <td>1.000000</td>\n",
       "      <td>0.000000</td>\n",
       "      <td>0.000000</td>\n",
       "      <td>0.000000</td>\n",
       "      <td>0.000000</td>\n",
       "    </tr>\n",
       "    <tr>\n",
       "      <th>50%</th>\n",
       "      <td>1.000000</td>\n",
       "      <td>0.000000</td>\n",
       "      <td>0.000000</td>\n",
       "      <td>0.000000</td>\n",
       "      <td>1.000000</td>\n",
       "    </tr>\n",
       "    <tr>\n",
       "      <th>75%</th>\n",
       "      <td>1.000000</td>\n",
       "      <td>0.000000</td>\n",
       "      <td>0.000000</td>\n",
       "      <td>0.000000</td>\n",
       "      <td>2.000000</td>\n",
       "    </tr>\n",
       "    <tr>\n",
       "      <th>max</th>\n",
       "      <td>8.000000</td>\n",
       "      <td>349.000000</td>\n",
       "      <td>161.000000</td>\n",
       "      <td>380.000000</td>\n",
       "      <td>699.000000</td>\n",
       "    </tr>\n",
       "  </tbody>\n",
       "</table>\n",
       "</div>"
      ],
      "text/plain": [
       "       Number.of.Engines  Total.Fatal.Injuries  Total.Serious.Injuries  \\\n",
       "count       82805.000000          77488.000000            76379.000000   \n",
       "mean            1.146585              0.647855                0.279881   \n",
       "std             0.446510              5.485960                1.544084   \n",
       "min             0.000000              0.000000                0.000000   \n",
       "25%             1.000000              0.000000                0.000000   \n",
       "50%             1.000000              0.000000                0.000000   \n",
       "75%             1.000000              0.000000                0.000000   \n",
       "max             8.000000            349.000000              161.000000   \n",
       "\n",
       "       Total.Minor.Injuries  Total.Uninjured  \n",
       "count          76956.000000     82977.000000  \n",
       "mean               0.357061         5.325440  \n",
       "std                2.235625        27.913634  \n",
       "min                0.000000         0.000000  \n",
       "25%                0.000000         0.000000  \n",
       "50%                0.000000         1.000000  \n",
       "75%                0.000000         2.000000  \n",
       "max              380.000000       699.000000  "
      ]
     },
     "execution_count": 4,
     "metadata": {},
     "output_type": "execute_result"
    }
   ],
   "source": [
    "df.describe()"
   ]
  },
  {
   "cell_type": "markdown",
   "id": "e440195d-1561-4a87-b031-62dcee00c804",
   "metadata": {},
   "source": [
    "## Data Cleaning"
   ]
  },
  {
   "cell_type": "markdown",
   "id": "4ca14108-086a-412c-abbe-47dccfa76df5",
   "metadata": {},
   "source": [
    "**Check for duplicates**"
   ]
  },
  {
   "cell_type": "code",
   "execution_count": 5,
   "id": "24126582-de23-43eb-a863-19c3cc16c8ac",
   "metadata": {},
   "outputs": [
    {
     "data": {
      "text/html": [
       "<div>\n",
       "<style scoped>\n",
       "    .dataframe tbody tr th:only-of-type {\n",
       "        vertical-align: middle;\n",
       "    }\n",
       "\n",
       "    .dataframe tbody tr th {\n",
       "        vertical-align: top;\n",
       "    }\n",
       "\n",
       "    .dataframe thead th {\n",
       "        text-align: right;\n",
       "    }\n",
       "</style>\n",
       "<table border=\"1\" class=\"dataframe\">\n",
       "  <thead>\n",
       "    <tr style=\"text-align: right;\">\n",
       "      <th></th>\n",
       "      <th>Event.Id</th>\n",
       "      <th>Investigation.Type</th>\n",
       "      <th>Accident.Number</th>\n",
       "      <th>Event.Date</th>\n",
       "      <th>Location</th>\n",
       "      <th>Country</th>\n",
       "      <th>Latitude</th>\n",
       "      <th>Longitude</th>\n",
       "      <th>Airport.Code</th>\n",
       "      <th>Airport.Name</th>\n",
       "      <th>...</th>\n",
       "      <th>Purpose.of.flight</th>\n",
       "      <th>Air.carrier</th>\n",
       "      <th>Total.Fatal.Injuries</th>\n",
       "      <th>Total.Serious.Injuries</th>\n",
       "      <th>Total.Minor.Injuries</th>\n",
       "      <th>Total.Uninjured</th>\n",
       "      <th>Weather.Condition</th>\n",
       "      <th>Broad.phase.of.flight</th>\n",
       "      <th>Report.Status</th>\n",
       "      <th>Publication.Date</th>\n",
       "    </tr>\n",
       "  </thead>\n",
       "  <tbody>\n",
       "  </tbody>\n",
       "</table>\n",
       "<p>0 rows × 31 columns</p>\n",
       "</div>"
      ],
      "text/plain": [
       "Empty DataFrame\n",
       "Columns: [Event.Id, Investigation.Type, Accident.Number, Event.Date, Location, Country, Latitude, Longitude, Airport.Code, Airport.Name, Injury.Severity, Aircraft.damage, Aircraft.Category, Registration.Number, Make, Model, Amateur.Built, Number.of.Engines, Engine.Type, FAR.Description, Schedule, Purpose.of.flight, Air.carrier, Total.Fatal.Injuries, Total.Serious.Injuries, Total.Minor.Injuries, Total.Uninjured, Weather.Condition, Broad.phase.of.flight, Report.Status, Publication.Date]\n",
       "Index: []\n",
       "\n",
       "[0 rows x 31 columns]"
      ]
     },
     "execution_count": 5,
     "metadata": {},
     "output_type": "execute_result"
    }
   ],
   "source": [
    "df[df.duplicated()]"
   ]
  },
  {
   "cell_type": "markdown",
   "id": "073a4c63-edf2-4311-b5e5-fd78cf8aa4c9",
   "metadata": {},
   "source": [
    "According to the above:\n",
    "*No duplicates have been found in the dataset*"
   ]
  },
  {
   "cell_type": "markdown",
   "id": "6d24c91a-428a-4f24-abc5-fb61848ec8d4",
   "metadata": {},
   "source": [
    "**Check for null values**"
   ]
  },
  {
   "cell_type": "code",
   "execution_count": 6,
   "id": "9b2b68a5-2ed9-4396-8c35-80b4328fbc7b",
   "metadata": {},
   "outputs": [
    {
     "data": {
      "text/plain": [
       "Event.Id                      0\n",
       "Investigation.Type            0\n",
       "Accident.Number               0\n",
       "Event.Date                    0\n",
       "Location                     52\n",
       "Country                     226\n",
       "Latitude                  54507\n",
       "Longitude                 54516\n",
       "Airport.Code              38757\n",
       "Airport.Name              36185\n",
       "Injury.Severity            1000\n",
       "Aircraft.damage            3194\n",
       "Aircraft.Category         56602\n",
       "Registration.Number        1382\n",
       "Make                         63\n",
       "Model                        92\n",
       "Amateur.Built               102\n",
       "Number.of.Engines          6084\n",
       "Engine.Type                7096\n",
       "FAR.Description           56866\n",
       "Schedule                  76307\n",
       "Purpose.of.flight          6192\n",
       "Air.carrier               72241\n",
       "Total.Fatal.Injuries      11401\n",
       "Total.Serious.Injuries    12510\n",
       "Total.Minor.Injuries      11933\n",
       "Total.Uninjured            5912\n",
       "Weather.Condition          4492\n",
       "Broad.phase.of.flight     27165\n",
       "Report.Status              6384\n",
       "Publication.Date          13771\n",
       "dtype: int64"
      ]
     },
     "execution_count": 6,
     "metadata": {},
     "output_type": "execute_result"
    }
   ],
   "source": [
    "df.isnull().sum()"
   ]
  },
  {
   "cell_type": "markdown",
   "id": "6e1cff4e-610c-4fa7-a7cd-a81618800a40",
   "metadata": {},
   "source": [
    "**A quick visualization of the missing values using a bar graph**"
   ]
  },
  {
   "cell_type": "code",
   "execution_count": 7,
   "id": "6ab574c1-60f2-46a0-97e0-0fc205b321dc",
   "metadata": {},
   "outputs": [
    {
     "data": {
      "image/png": "[encoded data removed]",
      "text/plain": [
       "<Figure size 1200x600 with 1 Axes>"
      ]
     },
     "metadata": {},
     "output_type": "display_data"
    }
   ],
   "source": [
    "missing_values = df.isnull().sum()\n",
    "missing_values = missing_values[missing_values > 0] \n",
    "\n",
    "plt.figure(figsize=(12, 6))\n",
    "missing_values.plot(kind='bar', color='orange')\n",
    "plt.title('Missing Values per Column')\n",
    "plt.xlabel('Columns')\n",
    "plt.ylabel('Count of Missing Values')\n",
    "plt.xticks(rotation=90)\n",
    "plt.show()"
   ]
  },
  {
   "cell_type": "markdown",
   "id": "ea3550d4-8041-4f64-b9d4-a7af369a046f",
   "metadata": {},
   "source": [
    "**Using a heat map to see missing values**"
   ]
  },
  {
   "cell_type": "code",
   "execution_count": 8,
   "id": "a7178e9a-dc28-4641-95f9-f6bbd31ceb0f",
   "metadata": {},
   "outputs": [
    {
     "data": {
      "image/png": "[encoded data removed]",
      "text/plain": [
       "<Figure size 1200x600 with 1 Axes>"
      ]
     },
     "metadata": {},
     "output_type": "display_data"
    }
   ],
   "source": [
    "plt.figure(figsize=(12,6))\n",
    "sns.heatmap(df.isnull(), cbar=False, cmap='viridis')\n",
    "plt.title('Missing Values in Dataset')\n",
    "plt.show()"
   ]
  },
  {
   "cell_type": "markdown",
   "id": "061a91ce-099c-46a5-aa06-d5722563d858",
   "metadata": {},
   "source": [
    "## Handling Missing Values\n",
    "### Handling too many missing values\n",
    "\n",
    "**Drop columns with too many missing values**\n",
    "\n",
    "As per the analysis above, there are many columns with a lot of missing values\n",
    "\n",
    "Not all columns in the dataset contribute to understanding aircraft safety and risk.  \n",
    "Here, I'll remove columns that are \"not useful\" for our analysis e.g, columns with excessive missing values::"
   ]
  },
  {
   "cell_type": "code",
   "execution_count": 9,
   "id": "d45b9d4c-12c9-42fe-b294-3108c1eea101",
   "metadata": {},
   "outputs": [
    {
     "name": "stdout",
     "output_type": "stream",
     "text": [
      "['Event.Id', 'Investigation.Type', 'Accident.Number', 'Event.Date', 'Location', 'Country', 'Latitude', 'Longitude', 'Airport.Code', 'Airport.Name', 'Injury.Severity', 'Aircraft.damage', 'Aircraft.Category', 'Registration.Number', 'Make', 'Model', 'Amateur.Built', 'Number.of.Engines', 'Engine.Type', 'FAR.Description', 'Schedule', 'Purpose.of.flight', 'Air.carrier', 'Total.Fatal.Injuries', 'Total.Serious.Injuries', 'Total.Minor.Injuries', 'Total.Uninjured', 'Weather.Condition', 'Broad.phase.of.flight', 'Report.Status', 'Publication.Date']\n"
     ]
    }
   ],
   "source": [
    "# first I print out the actual column names\n",
    "print(df.columns.tolist())"
   ]
  },
  {
   "cell_type": "markdown",
   "id": "4c066f3c-78ee-4203-bd95-da24f4815b77",
   "metadata": {},
   "source": [
    "As per the result above, not all column names are being displayed maybe due to trailing spaces or special characters that are not immediately visible."
   ]
  },
  {
   "cell_type": "code",
   "execution_count": 10,
   "id": "6adb8693-5169-4599-b4e7-be1959401af4",
   "metadata": {},
   "outputs": [],
   "source": [
    "# Remove trailing spaces and replace them with underscores\n",
    "df.columns = df.columns.str.strip()  \n",
    "df.columns = df.columns.str.replace(\" \", \"_\")  "
   ]
  },
  {
   "cell_type": "code",
   "execution_count": 11,
   "id": "72674340-3735-4d64-959a-c7a9fe6c991a",
   "metadata": {},
   "outputs": [
    {
     "name": "stdout",
     "output_type": "stream",
     "text": [
      "['Event.Id', 'Investigation.Type', 'Accident.Number', 'Event.Date', 'Location', 'Country', 'Latitude', 'Longitude', 'Airport.Code', 'Airport.Name', 'Injury.Severity', 'Aircraft.damage', 'Aircraft.Category', 'Registration.Number', 'Make', 'Model', 'Amateur.Built', 'Number.of.Engines', 'Engine.Type', 'FAR.Description', 'Schedule', 'Purpose.of.flight', 'Air.carrier', 'Total.Fatal.Injuries', 'Total.Serious.Injuries', 'Total.Minor.Injuries', 'Total.Uninjured', 'Weather.Condition', 'Broad.phase.of.flight', 'Report.Status', 'Publication.Date']\n"
     ]
    }
   ],
   "source": [
    "# Check the actual column names again\n",
    "print(df.columns.tolist())"
   ]
  },
  {
   "cell_type": "markdown",
   "id": "3f3e8a56-7d5f-4c66-a9ae-f6b958cc5dc6",
   "metadata": {},
   "source": [
    "Now all the column names are being correctly displayed.\n",
    "\n",
    "The columns with too many misisng values will now be dropped"
   ]
  },
  {
   "cell_type": "code",
   "execution_count": 12,
   "id": "624bcbaa-5b8e-42cd-86c4-adfc6e80c53c",
   "metadata": {},
   "outputs": [
    {
     "name": "stdout",
     "output_type": "stream",
     "text": [
      "                                        Column  Missing Percentage\n",
      "Schedule                              Schedule           85.845268\n",
      "Air.carrier                        Air.carrier           81.271023\n",
      "FAR.Description                FAR.Description           63.974170\n",
      "Aircraft.Category            Aircraft.Category           63.677170\n",
      "Longitude                            Longitude           61.330423\n",
      "Latitude                              Latitude           61.320298\n",
      "Airport.Code                      Airport.Code           43.601570\n",
      "Airport.Name                      Airport.Name           40.708074\n",
      "Broad.phase.of.flight    Broad.phase.of.flight           30.560587\n",
      "Publication.Date              Publication.Date           15.492356\n",
      "Total.Serious.Injuries  Total.Serious.Injuries           14.073732\n",
      "Total.Minor.Injuries      Total.Minor.Injuries           13.424608\n",
      "Total.Fatal.Injuries      Total.Fatal.Injuries           12.826109\n",
      "Engine.Type                        Engine.Type            7.982990\n",
      "Report.Status                    Report.Status            7.181991\n",
      "Purpose.of.flight            Purpose.of.flight            6.965991\n",
      "Number.of.Engines            Number.of.Engines            6.844491\n",
      "Total.Uninjured                Total.Uninjured            6.650992\n",
      "Weather.Condition            Weather.Condition            5.053494\n",
      "Aircraft.damage                Aircraft.damage            3.593246\n",
      "Registration.Number        Registration.Number            1.554748\n",
      "Injury.Severity                Injury.Severity            1.124999\n",
      "Country                                Country            0.254250\n",
      "Amateur.Built                    Amateur.Built            0.114750\n",
      "Model                                    Model            0.103500\n",
      "Make                                      Make            0.070875\n",
      "Location                              Location            0.058500\n",
      "Investigation.Type          Investigation.Type            0.000000\n",
      "Event.Date                          Event.Date            0.000000\n",
      "Accident.Number                Accident.Number            0.000000\n",
      "Event.Id                              Event.Id            0.000000\n"
     ]
    }
   ],
   "source": [
    "# This function helps to see just how much missing data each column has \n",
    "# It checks the percentage of missing data for each column\n",
    "\n",
    "def missing_data_summary(df):\n",
    "    missing_percentage = (df.isnull().sum() / len(df)) * 100\n",
    "    missing_df = pd.DataFrame({'Column': df.columns, 'Missing Percentage': missing_percentage})\n",
    "    missing_df = missing_df.sort_values(by='Missing Percentage', ascending=False)\n",
    "    return missing_df\n",
    "\n",
    "missing_summary = missing_data_summary(df)\n",
    "print(missing_summary)\n"
   ]
  },
  {
   "cell_type": "code",
   "execution_count": 13,
   "id": "ee8d46ea-72cb-47f1-aadb-9efeb9f3beeb",
   "metadata": {},
   "outputs": [],
   "source": [
    "# Drop columns, starting with ones with more than 50% of missing data\n",
    "columns_to_drop = ['Schedule', 'Air.carrier', 'FAR.Description', 'Aircraft.Category', 'Latitude', 'Longitude', 'Airport.Code', 'Airport.Name']\n",
    "df = df.drop(columns=[col for col in columns_to_drop if col in df.columns])\n",
    "\n",
    "# dropping airport code and airport name as well"
   ]
  },
  {
   "cell_type": "markdown",
   "id": "72798970-2c0d-4049-a295-e4b8bef98795",
   "metadata": {},
   "source": [
    "**Check if the columns have been dropped**"
   ]
  },
  {
   "cell_type": "code",
   "execution_count": 14,
   "id": "e7609726-ac8a-49e6-a512-a89d43aabb99",
   "metadata": {},
   "outputs": [
    {
     "name": "stdout",
     "output_type": "stream",
     "text": [
      "Index(['Event.Id', 'Investigation.Type', 'Accident.Number', 'Event.Date',\n",
      "       'Location', 'Country', 'Injury.Severity', 'Aircraft.damage',\n",
      "       'Registration.Number', 'Make', 'Model', 'Amateur.Built',\n",
      "       'Number.of.Engines', 'Engine.Type', 'Purpose.of.flight',\n",
      "       'Total.Fatal.Injuries', 'Total.Serious.Injuries',\n",
      "       'Total.Minor.Injuries', 'Total.Uninjured', 'Weather.Condition',\n",
      "       'Broad.phase.of.flight', 'Report.Status', 'Publication.Date'],\n",
      "      dtype='object')\n"
     ]
    }
   ],
   "source": [
    "print(df.columns)"
   ]
  },
  {
   "cell_type": "code",
   "execution_count": 15,
   "id": "c4053e81-10da-467d-82a2-792aba2f7daa",
   "metadata": {},
   "outputs": [
    {
     "data": {
      "text/plain": [
       "Event.Id                      0\n",
       "Investigation.Type            0\n",
       "Accident.Number               0\n",
       "Event.Date                    0\n",
       "Location                     52\n",
       "Country                     226\n",
       "Injury.Severity            1000\n",
       "Aircraft.damage            3194\n",
       "Registration.Number        1382\n",
       "Make                         63\n",
       "Model                        92\n",
       "Amateur.Built               102\n",
       "Number.of.Engines          6084\n",
       "Engine.Type                7096\n",
       "Purpose.of.flight          6192\n",
       "Total.Fatal.Injuries      11401\n",
       "Total.Serious.Injuries    12510\n",
       "Total.Minor.Injuries      11933\n",
       "Total.Uninjured            5912\n",
       "Weather.Condition          4492\n",
       "Broad.phase.of.flight     27165\n",
       "Report.Status              6384\n",
       "Publication.Date          13771\n",
       "dtype: int64"
      ]
     },
     "execution_count": 15,
     "metadata": {},
     "output_type": "execute_result"
    }
   ],
   "source": [
    "df.isnull().sum()"
   ]
  },
  {
   "cell_type": "markdown",
   "id": "e3164219-eff8-4f6d-92b0-47c4a3aac0f1",
   "metadata": {},
   "source": [
    "### Handling Missing Values in Numerical Columns\n",
    "Filling Missing Numerical Values with Mean\n",
    "\n",
    "Before filling missing values, I'll calculate the mean of each numerical column."
   ]
  },
  {
   "cell_type": "code",
   "execution_count": 16,
   "id": "25ec2026-a801-46ec-a444-51432830f9e9",
   "metadata": {},
   "outputs": [
    {
     "name": "stdout",
     "output_type": "stream",
     "text": [
      "Mean Fatal Injuries: 0.6478551517654346\n",
      "Mean Serious Injuries: 0.27988059545162935\n",
      "Mean Minor Injuries: 0.3570611778158948\n",
      "Mean Uninjured: 5.325439579642552\n"
     ]
    }
   ],
   "source": [
    "# Calculating mean for numerical columns\n",
    "fatal_injuries_mean = df['Total.Fatal.Injuries'].mean()\n",
    "serious_injuries_mean = df['Total.Serious.Injuries'].mean()\n",
    "minor_injuries_mean = df['Total.Minor.Injuries'].mean()\n",
    "uninjured_mean = df['Total.Uninjured'].mean()\n",
    "\n",
    "print(f\"Mean Fatal Injuries: {fatal_injuries_mean}\")\n",
    "print(f\"Mean Serious Injuries: {serious_injuries_mean}\")\n",
    "print(f\"Mean Minor Injuries: {minor_injuries_mean}\")\n",
    "print(f\"Mean Uninjured: {uninjured_mean}\")\n"
   ]
  },
  {
   "cell_type": "markdown",
   "id": "94378e62-04df-46a3-af84-2b6e8446095d",
   "metadata": {},
   "source": [
    "#### Replace Missing Numerical Values\n",
    "I will now fill the missing values using the computed mean"
   ]
  },
  {
   "cell_type": "code",
   "execution_count": 17,
   "id": "5c15fbdb-061f-4cc3-ab58-6263017b2859",
   "metadata": {},
   "outputs": [
    {
     "name": "stdout",
     "output_type": "stream",
     "text": [
      "Total.Fatal.Injuries      0\n",
      "Total.Serious.Injuries    0\n",
      "Total.Minor.Injuries      0\n",
      "Total.Uninjured           0\n",
      "dtype: int64\n"
     ]
    }
   ],
   "source": [
    "# Replacing missing values with computed mean\n",
    "df['Total.Fatal.Injuries'].fillna(fatal_injuries_mean, inplace=True)\n",
    "df['Total.Serious.Injuries'].fillna(serious_injuries_mean, inplace=True)\n",
    "df['Total.Minor.Injuries'].fillna(minor_injuries_mean, inplace=True)\n",
    "df['Total.Uninjured'].fillna(uninjured_mean, inplace=True)\n",
    "\n",
    "print(df[['Total.Fatal.Injuries', 'Total.Serious.Injuries', 'Total.Minor.Injuries', 'Total.Uninjured']].isnull().sum())\n"
   ]
  },
  {
   "cell_type": "markdown",
   "id": "b9b2c89f-fd43-4211-9a48-7b56a4d137c5",
   "metadata": {},
   "source": [
    "### Handling Missing Values in Categorical Columns\n",
    "Filling Missing Categorical Values with Mode\n",
    "\n",
    "Before filling missing values, I'll calculate the mode of each categorical column."
   ]
  },
  {
   "cell_type": "code",
   "execution_count": 18,
   "id": "e765ba6d-4b79-4ed2-afe7-0dcf274bbb8b",
   "metadata": {},
   "outputs": [
    {
     "name": "stdout",
     "output_type": "stream",
     "text": [
      "Mode for Country: United States\n",
      "Mode for Broad.phase.of.flight: Landing\n",
      "Mode for Injury.Severity: Non-Fatal\n",
      "Mode for Aircraft.damage: Substantial\n",
      "Mode for Make: Cessna\n",
      "Mode for Model: 152\n",
      "Mode for Amateur.Built: No\n",
      "Mode for Number.of.Engines: 1.0\n",
      "Mode for Engine.Type: Reciprocating\n",
      "Mode for Purpose.of.flight: Personal\n",
      "Mode for Weather.Condition: VMC\n",
      "Mode for Report.Status: Probable Cause\n"
     ]
    }
   ],
   "source": [
    "#mode for categorical columns\n",
    "categorical_cols = ['Country', 'Broad.phase.of.flight', 'Injury.Severity', 'Aircraft.damage', 'Make', 'Model', \n",
    "                    'Amateur.Built', 'Number.of.Engines', 'Engine.Type', \n",
    "                    'Purpose.of.flight', 'Weather.Condition', 'Report.Status']\n",
    "\n",
    "for col in categorical_cols:\n",
    "    mode_value = df[col].mode()[0]\n",
    "    print(f\"Mode for {col}: {mode_value}\")\n"
   ]
  },
  {
   "cell_type": "markdown",
   "id": "64c64421-c9f4-4435-9340-ca3383f2b6ec",
   "metadata": {},
   "source": [
    "#### Replace Missing Categorical Values\n",
    "I will now fill the missing values using the computed mode"
   ]
  },
  {
   "cell_type": "code",
   "execution_count": 27,
   "id": "fbbea45a-aefe-4905-b1a0-6fe67d585f3a",
   "metadata": {},
   "outputs": [
    {
     "name": "stdout",
     "output_type": "stream",
     "text": [
      "Country                  0\n",
      "Broad.phase.of.flight    0\n",
      "Injury.Severity          0\n",
      "Aircraft.damage          0\n",
      "Make                     0\n",
      "Model                    0\n",
      "Amateur.Built            0\n",
      "Number.of.Engines        0\n",
      "Engine.Type              0\n",
      "Purpose.of.flight        0\n",
      "Weather.Condition        0\n",
      "Report.Status            0\n",
      "dtype: int64\n"
     ]
    }
   ],
   "source": [
    "# Replacing missing values with computed mode\n",
    "for col in categorical_cols:\n",
    "    mode_value = df[col].mode()[0]  # Recompute mode for each column\n",
    "    df[col].fillna(mode_value, inplace=True)  \n",
    "\n",
    "# Verify if values are filled\n",
    "print(df[categorical_cols].isnull().sum())"
   ]
  },
  {
   "cell_type": "code",
   "execution_count": 20,
   "id": "73e42d84-4448-4e4b-943a-d493d6f9743f",
   "metadata": {},
   "outputs": [
    {
     "data": {
      "text/plain": [
       "Event.Id                      0\n",
       "Investigation.Type            0\n",
       "Accident.Number               0\n",
       "Event.Date                    0\n",
       "Location                     52\n",
       "Country                       0\n",
       "Injury.Severity               0\n",
       "Aircraft.damage               0\n",
       "Registration.Number        1382\n",
       "Make                          0\n",
       "Model                         0\n",
       "Amateur.Built                 0\n",
       "Number.of.Engines             0\n",
       "Engine.Type                   0\n",
       "Purpose.of.flight             0\n",
       "Total.Fatal.Injuries          0\n",
       "Total.Serious.Injuries        0\n",
       "Total.Minor.Injuries          0\n",
       "Total.Uninjured               0\n",
       "Weather.Condition             0\n",
       "Broad.phase.of.flight         0\n",
       "Report.Status                 0\n",
       "Publication.Date          13771\n",
       "dtype: int64"
      ]
     },
     "execution_count": 20,
     "metadata": {},
     "output_type": "execute_result"
    }
   ],
   "source": [
    "df.isnull().sum()"
   ]
  },
  {
   "cell_type": "markdown",
   "id": "1c60d932-585d-4696-8a18-d933ae074355",
   "metadata": {},
   "source": [
    "**Fill missing location values with 'unknown location'**"
   ]
  },
  {
   "cell_type": "code",
   "execution_count": 21,
   "id": "2d5e803a-7c9c-43c1-95de-56c64017dbb7",
   "metadata": {},
   "outputs": [],
   "source": [
    "df['Location'].fillna('Unknown Location', inplace=True)"
   ]
  },
  {
   "cell_type": "markdown",
   "id": "6466587e-a898-49f4-9457-3c0f06a0450d",
   "metadata": {},
   "source": [
    "**Fill missing registration number values with 'unknown'**"
   ]
  },
  {
   "cell_type": "code",
   "execution_count": 22,
   "id": "01e54d8c-8d6d-4609-b711-5def9939464c",
   "metadata": {},
   "outputs": [],
   "source": [
    "df['Registration.Number'].fillna('Unknown', inplace=True)"
   ]
  },
  {
   "cell_type": "markdown",
   "id": "ba5e3f17-fe26-4241-bf86-7560d13d6558",
   "metadata": {},
   "source": [
    "<!-- **Fill missing publication date values with 'Not Published'** -->"
   ]
  },
  {
   "cell_type": "code",
   "execution_count": 30,
   "id": "9bf46c7a-b49e-4660-b9e0-3d744514ca25",
   "metadata": {},
   "outputs": [],
   "source": [
    "# df['Publication.Date'].fillna('Not Published', inplace=True)"
   ]
  },
  {
   "cell_type": "code",
   "execution_count": 24,
   "id": "7936e132-50b2-44a6-8e22-fd23a50b5632",
   "metadata": {},
   "outputs": [
    {
     "data": {
      "text/plain": [
       "Event.Id                  0\n",
       "Investigation.Type        0\n",
       "Accident.Number           0\n",
       "Event.Date                0\n",
       "Location                  0\n",
       "Country                   0\n",
       "Injury.Severity           0\n",
       "Aircraft.damage           0\n",
       "Registration.Number       0\n",
       "Make                      0\n",
       "Model                     0\n",
       "Amateur.Built             0\n",
       "Number.of.Engines         0\n",
       "Engine.Type               0\n",
       "Purpose.of.flight         0\n",
       "Total.Fatal.Injuries      0\n",
       "Total.Serious.Injuries    0\n",
       "Total.Minor.Injuries      0\n",
       "Total.Uninjured           0\n",
       "Weather.Condition         0\n",
       "Broad.phase.of.flight     0\n",
       "Report.Status             0\n",
       "Publication.Date          0\n",
       "dtype: int64"
      ]
     },
     "execution_count": 24,
     "metadata": {},
     "output_type": "execute_result"
    }
   ],
   "source": [
    "df.isnull().sum()"
   ]
  },
  {
   "cell_type": "markdown",
   "id": "78c613c2-5488-4971-b056-d6c6bf33becf",
   "metadata": {},
   "source": [
    "*There are no longer missing values in the dataset*"
   ]
  },
  {
   "cell_type": "markdown",
   "id": "ecbb71c9-c304-4c06-a240-b1c51e0d33ca",
   "metadata": {},
   "source": [
    "### Data Type Validation and Conversion"
   ]
  },
  {
   "cell_type": "code",
   "execution_count": 25,
   "id": "253bd42e-4866-4cb0-a259-81789ae2a6c6",
   "metadata": {},
   "outputs": [
    {
     "name": "stdout",
     "output_type": "stream",
     "text": [
      "Event.Id                   object\n",
      "Investigation.Type         object\n",
      "Accident.Number            object\n",
      "Event.Date                 object\n",
      "Location                   object\n",
      "Country                    object\n",
      "Injury.Severity            object\n",
      "Aircraft.damage            object\n",
      "Registration.Number        object\n",
      "Make                       object\n",
      "Model                      object\n",
      "Amateur.Built              object\n",
      "Number.of.Engines          object\n",
      "Engine.Type                object\n",
      "Purpose.of.flight          object\n",
      "Total.Fatal.Injuries      float64\n",
      "Total.Serious.Injuries    float64\n",
      "Total.Minor.Injuries      float64\n",
      "Total.Uninjured           float64\n",
      "Weather.Condition          object\n",
      "Broad.phase.of.flight      object\n",
      "Report.Status              object\n",
      "Publication.Date           object\n",
      "dtype: object\n"
     ]
    }
   ],
   "source": [
    "# Check data types\n",
    "print(df.dtypes)"
   ]
  },
  {
   "cell_type": "code",
   "execution_count": 34,
   "id": "6d9bb4a1-6d06-48ca-b9f3-550410e5e74d",
   "metadata": {},
   "outputs": [],
   "source": [
    "# Convert Event.Date and Publication.Date to datetime\n",
    "df['Event.Date'] = pd.to_datetime(df['Event.Date'], dayfirst=True)\n",
    "df['Publication.Date'] = pd.to_datetime(df['Publication.Date'], dayfirst=True)"
   ]
  },
  {
   "cell_type": "code",
   "execution_count": 35,
   "id": "cc69fc9e-2bdd-4fae-aa19-19e38d24a2e4",
   "metadata": {},
   "outputs": [
    {
     "name": "stdout",
     "output_type": "stream",
     "text": [
      "Event.Date          datetime64[ns]\n",
      "Publication.Date    datetime64[ns]\n",
      "dtype: object\n"
     ]
    }
   ],
   "source": [
    "# confirming if event and publication date are now type datetime\n",
    "print(df[['Event.Date', 'Publication.Date']].dtypes)"
   ]
  },
  {
   "cell_type": "code",
   "execution_count": 36,
   "id": "5795543f-1f87-4224-83a5-3a3b61adcdd2",
   "metadata": {},
   "outputs": [
    {
     "name": "stdout",
     "output_type": "stream",
     "text": [
      "<class 'pandas.core.frame.DataFrame'>\n",
      "RangeIndex: 88889 entries, 0 to 88888\n",
      "Data columns (total 23 columns):\n",
      " #   Column                  Non-Null Count  Dtype         \n",
      "---  ------                  --------------  -----         \n",
      " 0   Event.Id                88889 non-null  object        \n",
      " 1   Investigation.Type      88889 non-null  object        \n",
      " 2   Accident.Number         88889 non-null  object        \n",
      " 3   Event.Date              88889 non-null  datetime64[ns]\n",
      " 4   Location                88889 non-null  object        \n",
      " 5   Country                 88889 non-null  object        \n",
      " 6   Injury.Severity         88889 non-null  object        \n",
      " 7   Aircraft.damage         88889 non-null  object        \n",
      " 8   Registration.Number     88889 non-null  object        \n",
      " 9   Make                    88889 non-null  object        \n",
      " 10  Model                   88889 non-null  object        \n",
      " 11  Amateur.Built           88889 non-null  object        \n",
      " 12  Number.of.Engines       88889 non-null  object        \n",
      " 13  Engine.Type             88889 non-null  object        \n",
      " 14  Purpose.of.flight       88889 non-null  object        \n",
      " 15  Total.Fatal.Injuries    88889 non-null  float64       \n",
      " 16  Total.Serious.Injuries  88889 non-null  float64       \n",
      " 17  Total.Minor.Injuries    88889 non-null  float64       \n",
      " 18  Total.Uninjured         88889 non-null  float64       \n",
      " 19  Weather.Condition       88889 non-null  object        \n",
      " 20  Broad.phase.of.flight   88889 non-null  object        \n",
      " 21  Report.Status           88889 non-null  object        \n",
      " 22  Publication.Date        75118 non-null  datetime64[ns]\n",
      "dtypes: datetime64[ns](2), float64(4), object(17)\n",
      "memory usage: 15.6+ MB\n"
     ]
    }
   ],
   "source": [
    "df.info()"
   ]
  },
  {
   "cell_type": "markdown",
   "id": "37e8e696-6215-4c81-9f29-151e2b77db59",
   "metadata": {},
   "source": [
    "### FEATURE ENGINEERING\n",
    "\n",
    "I will now generate new features that might be useful for analysis\n",
    "\n",
    "1. **Create a Total Injuries Column**"
   ]
  },
  {
   "cell_type": "code",
   "execution_count": 37,
   "id": "39d1f96b-fa25-45aa-ac76-9adb63e65fb4",
   "metadata": {},
   "outputs": [],
   "source": [
    "df['Total.Injuries'] = (\n",
    "    df['Total.Fatal.Injuries'] + \n",
    "    df['Total.Serious.Injuries'] + \n",
    "    df['Total.Minor.Injuries']\n",
    ")\n"
   ]
  },
  {
   "cell_type": "code",
   "execution_count": 38,
   "id": "2914a387-5a37-433b-94f8-275eb216be67",
   "metadata": {},
   "outputs": [
    {
     "name": "stdout",
     "output_type": "stream",
     "text": [
      "True\n"
     ]
    }
   ],
   "source": [
    "print('Total.Injuries' in df.columns)"
   ]
  },
  {
   "cell_type": "code",
   "execution_count": 39,
   "id": "aa8d4c11-cbc0-4a6f-b559-6f38da3e93e9",
   "metadata": {},
   "outputs": [
    {
     "name": "stdout",
     "output_type": "stream",
     "text": [
      "0    2.000000\n",
      "1    4.000000\n",
      "2    3.636942\n",
      "3    2.000000\n",
      "4    3.357061\n",
      "Name: Total.Injuries, dtype: float64\n"
     ]
    }
   ],
   "source": [
    "print(df['Total.Injuries'].head())\n"
   ]
  },
  {
   "cell_type": "markdown",
   "id": "5717ada3-7e5d-4bbf-9961-028d1bea8992",
   "metadata": {},
   "source": [
    "2. **Classifying accidents as fatal or non-fatal**"
   ]
  },
  {
   "cell_type": "code",
   "execution_count": 40,
   "id": "8ec1c4ae-1af6-47ac-9004-2ead11a345ba",
   "metadata": {},
   "outputs": [],
   "source": [
    "df['Fatal_Accident'] = df['Total.Fatal.Injuries'].apply(lambda x: 'Fatal' if x > 0 else 'Non-Fatal')\n"
   ]
  },
  {
   "cell_type": "code",
   "execution_count": 41,
   "id": "83ef27ff-f9e2-42a5-a48f-1a648e9b9293",
   "metadata": {},
   "outputs": [
    {
     "name": "stdout",
     "output_type": "stream",
     "text": [
      "   Total.Fatal.Injuries Fatal_Accident\n",
      "0                   2.0          Fatal\n",
      "1                   4.0          Fatal\n",
      "2                   3.0          Fatal\n",
      "3                   2.0          Fatal\n",
      "4                   1.0          Fatal\n"
     ]
    }
   ],
   "source": [
    "print(df[['Total.Fatal.Injuries', 'Fatal_Accident']].head())"
   ]
  },
  {
   "cell_type": "code",
   "execution_count": 42,
   "id": "386b8b12-9185-43fa-a167-02278b7a2ff7",
   "metadata": {},
   "outputs": [
    {
     "name": "stdout",
     "output_type": "stream",
     "text": [
      "Fatal_Accident\n",
      "Non-Fatal    59675\n",
      "Fatal        29214\n",
      "Name: count, dtype: int64\n"
     ]
    }
   ],
   "source": [
    "# checking how many accidents are non-fatal and fatal in total\n",
    "print(df['Fatal_Accident'].value_counts())"
   ]
  },
  {
   "cell_type": "markdown",
   "id": "41676fb2-1a65-46c3-94f1-2fa6b18c180b",
   "metadata": {},
   "source": [
    "### DATA VISUALIZATION"
   ]
  },
  {
   "cell_type": "code",
   "execution_count": 43,
   "id": "3961d98d-8a13-46e5-b0a9-d99d4e982398",
   "metadata": {},
   "outputs": [
    {
     "data": {
      "image/png": "[encoded data removed]",
      "text/plain": [
       "<Figure size 1200x600 with 1 Axes>"
      ]
     },
     "metadata": {},
     "output_type": "display_data"
    }
   ],
   "source": [
    "# Plot number of accidents per year\n",
    "df['Year'] = df['Event.Date'].dt.year\n",
    "plt.figure(figsize=(12, 6))\n",
    "sns.countplot(x=df['Year'], palette='coolwarm')\n",
    "plt.xticks(rotation=90)\n",
    "plt.title('Aviation Accidents Per Year')\n",
    "plt.show()"
   ]
  }
 ],
 "metadata": {
  "kernelspec": {
   "display_name": "Python 3 (ipykernel)",
   "language": "python",
   "name": "python3"
  },
  "language_info": {
   "codemirror_mode": {
    "name": "ipython",
    "version": 3
   },
   "file_extension": ".py",
   "mimetype": "text/x-python",
   "name": "python",
   "nbconvert_exporter": "python",
   "pygments_lexer": "ipython3",
   "version": "3.11.7"
  }
 },
 "nbformat": 4,
 "nbformat_minor": 5
}
